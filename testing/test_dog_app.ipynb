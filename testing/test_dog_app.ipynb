{
 "cells": [
  {
   "cell_type": "markdown",
   "metadata": {},
   "source": [
    "# Artificial Intelligence Nanodegree\n",
    "\n",
    "## Convolutional Neural Networks\n",
    "\n",
    "## Project: Write an Algorithm for a Dog Identification App \n",
    "\n",
    "---\n",
    "\n",
    "In this notebook, some template code has already been provided for you, and you will need to implement additional functionality to successfully complete this project. You will not need to modify the included code beyond what is requested. Sections that begin with **'(IMPLEMENTATION)'** in the header indicate that the following block of code will require additional functionality which you must provide. Instructions will be provided for each section, and the specifics of the implementation are marked in the code block with a 'TODO' statement. Please be sure to read the instructions carefully! \n",
    "\n",
    "> **Note**: Once you have completed all of the code implementations, you need to finalize your work by exporting the iPython Notebook as an HTML document. Before exporting the notebook to html, all of the code cells need to have been run so that reviewers can see the final implementation and output. You can then export the notebook by using the menu above and navigating to  \\n\",\n",
    "    \"**File -> Download as -> HTML (.html)**. Include the finished document along with this notebook as your submission.\n",
    "\n",
    "In addition to implementing code, there will be questions that you must answer which relate to the project and your implementation. Each section where you will answer a question is preceded by a **'Question X'** header. Carefully read each question and provide thorough answers in the following text boxes that begin with **'Answer:'**. Your project submission will be evaluated based on your answers to each of the questions and the implementation you provide.\n",
    "\n",
    ">**Note:** Code and Markdown cells can be executed using the **Shift + Enter** keyboard shortcut.  Markdown cells can be edited by double-clicking the cell to enter edit mode.\n",
    "\n",
    "The rubric contains _optional_ \"Stand Out Suggestions\" for enhancing the project beyond the minimum requirements. If you decide to pursue the \"Stand Out Suggestions\", you should include the code in this IPython notebook.\n",
    "\n",
    "\n",
    "\n",
    "---\n",
    "### Why We're Here \n",
    "\n",
    "In this notebook, you will make the first steps towards developing an algorithm that could be used as part of a mobile or web app.  At the end of this project, your code will accept any user-supplied image as input.  If a dog is detected in the image, it will provide an estimate of the dog's breed.  If a human is detected, it will provide an estimate of the dog breed that is most resembling.  The image below displays potential sample output of your finished project (... but we expect that each student's algorithm will behave differently!). \n",
    "\n",
    "![Sample Dog Output](images/sample_dog_output.png)\n",
    "\n",
    "In this real-world setting, you will need to piece together a series of models to perform different tasks; for instance, the algorithm that detects humans in an image will be different from the CNN that infers dog breed.  There are many points of possible failure, and no perfect algorithm exists.  Your imperfect solution will nonetheless create a fun user experience!\n",
    "\n",
    "### The Road Ahead\n",
    "\n",
    "We break the notebook into separate steps.  Feel free to use the links below to navigate the notebook.\n",
    "\n",
    "* [Step 0](#step0): Import Datasets\n",
    "* [Step 1](#step1): Detect Humans\n",
    "* [Step 2](#step2): Detect Dogs\n",
    "* [Step 3](#step3): Create a CNN to Classify Dog Breeds (from Scratch)\n",
    "* [Step 4](#step4): Use a CNN to Classify Dog Breeds (using Transfer Learning)\n",
    "* [Step 5](#step5): Create a CNN to Classify Dog Breeds (using Transfer Learning)\n",
    "* [Step 6](#step6): Write your Algorithm\n",
    "* [Step 7](#step7): Test Your Algorithm\n",
    "\n",
    "---\n",
    "<a id='step0'></a>\n",
    "## Step 0: Import Datasets\n",
    "\n",
    "### Import Dog Dataset\n",
    "\n",
    "In the code cell below, we import a dataset of dog images.  We populate a few variables through the use of the `load_files` function from the scikit-learn library:\n",
    "- `train_files`, `valid_files`, `test_files` - numpy arrays containing file paths to images\n",
    "- `train_targets`, `valid_targets`, `test_targets` - numpy arrays containing onehot-encoded classification labels \n",
    "- `dog_names` - list of string-valued dog breed names for translating labels"
   ]
  },
  {
   "cell_type": "code",
   "execution_count": 1,
   "metadata": {},
   "outputs": [
    {
     "name": "stderr",
     "output_type": "stream",
     "text": [
      "Using TensorFlow backend.\n"
     ]
    },
    {
     "name": "stdout",
     "output_type": "stream",
     "text": [
      "GPU memory incrementally allocated for current tensorflow session\n"
     ]
    }
   ],
   "source": [
    "import tensorflow as tf\n",
    "from keras.backend.tensorflow_backend import set_session\n",
    "config = tf.ConfigProto()\n",
    "\n",
    "#Set to True to allow GPU dynamic memory incremental allocation\n",
    "#Note: memory is not deallocated automatically\n",
    "if True:\n",
    "    config.gpu_options.allow_growth = True\n",
    "    print(\"GPU memory incrementally allocated for current tensorflow session\")\n",
    "\n",
    "#Set to True if you decide to allocate a specific fraction of the total GPU\n",
    "#memory to the current tensorflow session\n",
    "if False:\n",
    "    mem_frac = 0.3\n",
    "    config.gpu_options.per_process_gpu_memory_fraction = mem_frac\n",
    "    print(\"GPU memory allocated for current tensorflow session = {}\".format(mem_frac))\n",
    "    \n",
    "set_session(tf.Session(config=config))\n",
    "\n",
    "#Note: Use the NVIDIA System Management Interface to monitor your gpu compute devices \n",
    "#      memory, e.g. $nvdia-smi"
   ]
  },
  {
   "cell_type": "code",
   "execution_count": 2,
   "metadata": {},
   "outputs": [
    {
     "name": "stdout",
     "output_type": "stream",
     "text": [
      "There are 133 total dog categories.\n",
      "There are 8351 total dog images.\n",
      "\n",
      "There are 6680 training dog images.\n",
      "There are 835 validation dog images.\n",
      "There are 836 test dog images.\n"
     ]
    }
   ],
   "source": [
    "from sklearn.datasets import load_files       \n",
    "from keras.utils import np_utils\n",
    "import numpy as np\n",
    "from glob import glob\n",
    "\n",
    "# define function to load train, test, and validation datasets\n",
    "def load_dataset(path):\n",
    "    data = load_files(path)\n",
    "    dog_files = np.array(data['filenames'])\n",
    "    dog_targets = np_utils.to_categorical(np.array(data['target']), 133)\n",
    "    return dog_files, dog_targets\n",
    "\n",
    "\n",
    "#Set to True specify path to folder containing dataset subfolders\n",
    "#Note: useful if jupyter notebook not located in default location \n",
    "if True:\n",
    "    ds_path = '/mnt/linuxdata2/Dropbox/_machine_learning/udacity_projects/cnn-project/'\n",
    "else:\n",
    "    ds_path = ''\n",
    "        \n",
    "\n",
    "# load train, test, and validation datasets\n",
    "train_files, train_targets = load_dataset(ds_path + 'dogImages/train')\n",
    "valid_files, valid_targets = load_dataset(ds_path + 'dogImages/valid')\n",
    "test_files, test_targets = load_dataset(ds_path + 'dogImages/test')\n",
    "\n",
    "# load list of dog names\n",
    "dog_names = [item[20:-1] for item in sorted(glob(ds_path + \"dogImages/train/*/\"))]\n",
    "\n",
    "# print statistics about the dataset\n",
    "print('There are %d total dog categories.' % len(dog_names))\n",
    "print('There are %s total dog images.\\n' % len(np.hstack([train_files, valid_files, test_files])))\n",
    "print('There are %d training dog images.' % len(train_files))\n",
    "print('There are %d validation dog images.' % len(valid_files))\n",
    "print('There are %d test dog images.'% len(test_files))"
   ]
  },
  {
   "cell_type": "markdown",
   "metadata": {},
   "source": [
    "### Import Human Dataset\n",
    "\n",
    "In the code cell below, we import a dataset of human images, where the file paths are stored in the numpy array `human_files`."
   ]
  },
  {
   "cell_type": "code",
   "execution_count": 4,
   "metadata": {},
   "outputs": [
    {
     "name": "stdout",
     "output_type": "stream",
     "text": [
      "There are 13233 total human images.\n"
     ]
    }
   ],
   "source": [
    "import random\n",
    "random.seed(8675309)\n",
    "\n",
    "# load filenames in shuffled human dataset\n",
    "human_files = np.array(glob(ds_path + \"lfw/*/*\"))\n",
    "random.shuffle(human_files)\n",
    "\n",
    "# print statistics about the dataset\n",
    "print('There are %d total human images.' % len(human_files))"
   ]
  },
  {
   "cell_type": "markdown",
   "metadata": {},
   "source": [
    "---\n",
    "<a id='step1'></a>\n",
    "## Step 1: Detect Humans\n",
    "\n",
    "We use OpenCV's implementation of [Haar feature-based cascade classifiers](http://docs.opencv.org/trunk/d7/d8b/tutorial_py_face_detection.html) to detect human faces in images.  OpenCV provides many pre-trained face detectors, stored as XML files on [github](https://github.com/opencv/opencv/tree/master/data/haarcascades).  We have downloaded one of these detectors and stored it in the `haarcascades` directory.\n",
    "\n",
    "In the next code cell, we demonstrate how to use this detector to find human faces in a sample image."
   ]
  },
  {
   "cell_type": "code",
   "execution_count": 5,
   "metadata": {},
   "outputs": [
    {
     "name": "stdout",
     "output_type": "stream",
     "text": [
      "Number of faces detected: 1\n"
     ]
    },
    {
     "data": {
      "image/png": "[encoded data removed]",
      "text/plain": [
       "<matplotlib.figure.Figure at 0x7f35c7501550>"
      ]
     },
     "metadata": {},
     "output_type": "display_data"
    }
   ],
   "source": [
    "import cv2                \n",
    "import matplotlib.pyplot as plt                        \n",
    "%matplotlib inline                               \n",
    "\n",
    "# extract pre-trained face detector\n",
    "face_cascade = cv2.CascadeClassifier(ds_path + 'haarcascades/haarcascade_frontalface_alt.xml')\n",
    "\n",
    "# load color (BGR) image\n",
    "img = cv2.imread(human_files[3])\n",
    "# convert BGR image to grayscale\n",
    "gray = cv2.cvtColor(img, cv2.COLOR_BGR2GRAY)\n",
    "\n",
    "# find faces in image\n",
    "faces = face_cascade.detectMultiScale(gray)\n",
    "\n",
    "# print number of faces detected in the image\n",
    "print('Number of faces detected:', len(faces))\n",
    "\n",
    "# get bounding box for each detected face\n",
    "for (x,y,w,h) in faces:\n",
    "    # add bounding box to color image\n",
    "    cv2.rectangle(img,(x,y),(x+w,y+h),(255,0,0),2)\n",
    "    \n",
    "# convert BGR image to RGB for plotting\n",
    "cv_rgb = cv2.cvtColor(img, cv2.COLOR_BGR2RGB)\n",
    "\n",
    "# display the image, along with bounding box\n",
    "plt.imshow(cv_rgb)\n",
    "plt.show()"
   ]
  },
  {
   "cell_type": "markdown",
   "metadata": {},
   "source": [
    "Before using any of the face detectors, it is standard procedure to convert the images to grayscale.  The `detectMultiScale` function executes the classifier stored in `face_cascade` and takes the grayscale image as a parameter.  \n",
    "\n",
    "In the above code, `faces` is a numpy array of detected faces, where each row corresponds to a detected face.  Each detected face is a 1D array with four entries that specifies the bounding box of the detected face.  The first two entries in the array (extracted in the above code as `x` and `y`) specify the horizontal and vertical positions of the top left corner of the bounding box.  The last two entries in the array (extracted here as `w` and `h`) specify the width and height of the box.\n",
    "\n",
    "### Write a Human Face Detector\n",
    "\n",
    "We can use this procedure to write a function that returns `True` if a human face is detected in an image and `False` otherwise.  This function, aptly named `face_detector`, takes a string-valued file path to an image as input and appears in the code block below."
   ]
  },
  {
   "cell_type": "code",
   "execution_count": 6,
   "metadata": {
    "collapsed": true
   },
   "outputs": [],
   "source": [
    "# returns \"True\" if face is detected in image stored at img_path\n",
    "def face_detector(img_path):\n",
    "    img = cv2.imread(img_path)\n",
    "    gray = cv2.cvtColor(img, cv2.COLOR_BGR2GRAY)\n",
    "    faces = face_cascade.detectMultiScale(gray)\n",
    "    return len(faces) > 0"
   ]
  },
  {
   "cell_type": "markdown",
   "metadata": {},
   "source": [
    "### (IMPLEMENTATION) Assess the Human Face Detector\n",
    "\n",
    "__Question 1:__ Use the code cell below to test the performance of the `face_detector` function.  \n",
    "- What percentage of the first 100 images in `human_files` have a detected human face?  \n",
    "- What percentage of the first 100 images in `dog_files` have a detected human face? \n",
    "\n",
    "Ideally, we would like 100% of human images with a detected face and 0% of dog images with a detected face.  You will see that our algorithm falls short of this goal, but still gives acceptable performance.  We extract the file paths for the first 100 images from each of the datasets and store them in the numpy arrays `human_files_short` and `dog_files_short`.\n",
    "\n"
   ]
  },
  {
   "cell_type": "markdown",
   "metadata": {},
   "source": [
    "**Answer:**\n",
    "\n",
    "*<br><font color='blue'>What percentage of the first 100 images in `human_files` have a detected human face?</font>*\n",
    "\n",
    "Percentage of human faces detected in short human_files dataset: 98%\n",
    "\n",
    "*<br><font color='blue'>What percentage of the first 100 images in `dog_files` have a detected human face?</font>*\n",
    "\n",
    "Percentage of human faces detected in short dog_files dataset: 11%"
   ]
  },
  {
   "cell_type": "code",
   "execution_count": 7,
   "metadata": {
    "scrolled": true
   },
   "outputs": [
    {
     "name": "stdout",
     "output_type": "stream",
     "text": [
      "Percentage of human faces detected in short human_files dataset: 98\n",
      "Percentage of human faces detected in short dog_files dataset: 11\n"
     ]
    }
   ],
   "source": [
    "human_files_short = human_files[:100]\n",
    "dog_files_short = train_files[:100]\n",
    "# Do NOT modify the code above this line.\n",
    "\n",
    "\n",
    "s1, s2 = 0, 0\n",
    "for human_ipath in human_files_short:\n",
    "    s1 += face_detector(human_ipath)\n",
    "for dog_ipath in dog_files_short:\n",
    "    s2 += face_detector(dog_ipath)\n",
    "\n",
    "print(\"Percentage of human faces detected in short human_files dataset: {}\".format(s1))\n",
    "print(\"Percentage of human faces detected in short dog_files dataset: {}\".format(s2))"
   ]
  },
  {
   "cell_type": "markdown",
   "metadata": {},
   "source": [
    "__Question 2:__ This algorithmic choice necessitates that we communicate to the user that we accept human images only when they provide a clear view of a face (otherwise, we risk having unneccessarily frustrated users!). In your opinion, is this a reasonable expectation to pose on the user? If not, can you think of a way to detect humans in images that does not necessitate an image with a clearly presented face?\n",
    "\n",
    "\n",
    "We suggest the face detector from OpenCV as a potential way to detect human images in your algorithm, but you are free to explore other approaches, especially approaches that make use of deep learning :).  Please use the code cell below to design and test your own face detection algorithm.  If you decide to pursue this _optional_ task, report performance on each of the datasets."
   ]
  },
  {
   "cell_type": "code",
   "execution_count": null,
   "metadata": {
    "collapsed": true
   },
   "outputs": [],
   "source": [
    "## (Optional) TODO: Report the performance of another  \n",
    "## face detection algorithm on the LFW dataset\n",
    "### Feel free to use as many code cells as needed."
   ]
  },
  {
   "cell_type": "markdown",
   "metadata": {},
   "source": [
    "---\n",
    "<a id='step2'></a>\n",
    "## Step 2: Detect Dogs\n",
    "\n",
    "In this section, we use a pre-trained [ResNet-50](http://ethereon.github.io/netscope/#/gist/db945b393d40bfa26006) model to detect dogs in images.  Our first line of code downloads the ResNet-50 model, along with weights that have been trained on [ImageNet](http://www.image-net.org/), a very large, very popular dataset used for image classification and other vision tasks.  ImageNet contains over 10 million URLs, each linking to an image containing an object from one of [1000 categories](https://gist.github.com/yrevar/942d3a0ac09ec9e5eb3a).  Given an image, this pre-trained ResNet-50 model returns a prediction (derived from the available categories in ImageNet) for the object that is contained in the image."
   ]
  },
  {
   "cell_type": "code",
   "execution_count": 8,
   "metadata": {
    "collapsed": true
   },
   "outputs": [],
   "source": [
    "from keras.applications.resnet50 import ResNet50\n",
    "\n",
    "# define ResNet50 model\n",
    "ResNet50_model = ResNet50(weights='imagenet')"
   ]
  },
  {
   "cell_type": "markdown",
   "metadata": {},
   "source": [
    "### Pre-process the Data\n",
    "\n",
    "When using TensorFlow as backend, Keras CNNs require a 4D array (which we'll also refer to as a 4D tensor) as input, with shape\n",
    "\n",
    "$$\n",
    "(\\text{nb_samples}, \\text{rows}, \\text{columns}, \\text{channels}),\n",
    "$$\n",
    "\n",
    "where `nb_samples` corresponds to the total number of images (or samples), and `rows`, `columns`, and `channels` correspond to the number of rows, columns, and channels for each image, respectively.  \n",
    "\n",
    "The `path_to_tensor` function below takes a string-valued file path to a color image as input and returns a 4D tensor suitable for supplying to a Keras CNN.  The function first loads the image and resizes it to a square image that is $224 \\times 224$ pixels.  Next, the image is converted to an array, which is then resized to a 4D tensor.  In this case, since we are working with color images, each image has three channels.  Likewise, since we are processing a single image (or sample), the returned tensor will always have shape\n",
    "\n",
    "$$\n",
    "(1, 224, 224, 3).\n",
    "$$\n",
    "\n",
    "The `paths_to_tensor` function takes a numpy array of string-valued image paths as input and returns a 4D tensor with shape \n",
    "\n",
    "$$\n",
    "(\\text{nb_samples}, 224, 224, 3).\n",
    "$$\n",
    "\n",
    "Here, `nb_samples` is the number of samples, or number of images, in the supplied array of image paths.  It is best to think of `nb_samples` as the number of 3D tensors (where each 3D tensor corresponds to a different image) in your dataset!"
   ]
  },
  {
   "cell_type": "code",
   "execution_count": 10,
   "metadata": {
    "collapsed": true
   },
   "outputs": [],
   "source": [
    "from keras.preprocessing import image                  \n",
    "from tqdm import tqdm\n",
    "\n",
    "def path_to_tensor(img_path):\n",
    "    # loads RGB image as PIL.Image.Image type\n",
    "    img = image.load_img(img_path, target_size=(224, 224))\n",
    "    # convert PIL.Image.Image type to 3D tensor with shape (224, 224, 3)\n",
    "    x = image.img_to_array(img)\n",
    "    # convert 3D tensor to 4D tensor with shape (1, 224, 224, 3) and return 4D tensor\n",
    "    return np.expand_dims(x, axis=0)\n",
    "\n",
    "def paths_to_tensor(img_paths):\n",
    "    list_of_tensors = [path_to_tensor(img_path) for img_path in tqdm(img_paths)]\n",
    "    return np.vstack(list_of_tensors)"
   ]
  },
  {
   "cell_type": "markdown",
   "metadata": {},
   "source": [
    "### Making Predictions with ResNet-50\n",
    "\n",
    "Getting the 4D tensor ready for ResNet-50, and for any other pre-trained model in Keras, requires some additional processing.  First, the RGB image is converted to BGR by reordering the channels.  All pre-trained models have the additional normalization step that the mean pixel (expressed in RGB as $[103.939, 116.779, 123.68]$ and calculated from all pixels in all images in ImageNet) must be subtracted from every pixel in each image.  This is implemented in the imported function `preprocess_input`.  If you're curious, you can check the code for `preprocess_input` [here](https://github.com/fchollet/keras/blob/master/keras/applications/imagenet_utils.py).\n",
    "\n",
    "Now that we have a way to format our image for supplying to ResNet-50, we are now ready to use the model to extract the predictions.  This is accomplished with the `predict` method, which returns an array whose $i$-th entry is the model's predicted probability that the image belongs to the $i$-th ImageNet category.  This is implemented in the `ResNet50_predict_labels` function below.\n",
    "\n",
    "By taking the argmax of the predicted probability vector, we obtain an integer corresponding to the model's predicted object class, which we can identify with an object category through the use of this [dictionary](https://gist.github.com/yrevar/942d3a0ac09ec9e5eb3a). "
   ]
  },
  {
   "cell_type": "code",
   "execution_count": 11,
   "metadata": {
    "collapsed": true
   },
   "outputs": [],
   "source": [
    "from keras.applications.resnet50 import preprocess_input, decode_predictions\n",
    "\n",
    "def ResNet50_predict_labels(img_path):\n",
    "    # returns prediction vector for image located at img_path\n",
    "    img = preprocess_input(path_to_tensor(img_path))\n",
    "    return np.argmax(ResNet50_model.predict(img))"
   ]
  },
  {
   "cell_type": "markdown",
   "metadata": {},
   "source": [
    "### Write a Dog Detector\n",
    "\n",
    "While looking at the [dictionary](https://gist.github.com/yrevar/942d3a0ac09ec9e5eb3a), you will notice that the categories corresponding to dogs appear in an uninterrupted sequence and correspond to dictionary keys 151-268, inclusive, to include all categories from `'Chihuahua'` to `'Mexican hairless'`.  Thus, in order to check to see if an image is predicted to contain a dog by the pre-trained ResNet-50 model, we need only check if the `ResNet50_predict_labels` function above returns a value between 151 and 268 (inclusive).\n",
    "\n",
    "We use these ideas to complete the `dog_detector` function below, which returns `True` if a dog is detected in an image (and `False` if not)."
   ]
  },
  {
   "cell_type": "code",
   "execution_count": 12,
   "metadata": {
    "collapsed": true
   },
   "outputs": [],
   "source": [
    "### returns \"True\" if a dog is detected in the image stored at img_path\n",
    "def dog_detector(img_path):\n",
    "    prediction = ResNet50_predict_labels(img_path)\n",
    "    return ((prediction <= 268) & (prediction >= 151)) "
   ]
  },
  {
   "cell_type": "markdown",
   "metadata": {},
   "source": [
    "### (IMPLEMENTATION) Assess the Dog Detector\n",
    "\n",
    "__Question 3:__ Use the code cell below to test the performance of your `dog_detector` function.  \n",
    "- What percentage of the images in `human_files_short` have a detected dog?  \n",
    "- What percentage of the images in `dog_files_short` have a detected dog?"
   ]
  },
  {
   "cell_type": "markdown",
   "metadata": {},
   "source": [
    "**Answer:**\n",
    "\n",
    "*<br><font color='blue'>What percentage of the first 100 images in `human_files` have a detected dog?</font>*\n",
    "\n",
    "Percentage of dog faces detected in short human_files dataset: 1%\n",
    "\n",
    "*<br><font color='blue'>What percentage of the first 100 images in `dog_files` have a detected dog?</font>*\n",
    "\n",
    "Percentage of dog faces detected in short dog_files dataset: 100%"
   ]
  },
  {
   "cell_type": "code",
   "execution_count": 13,
   "metadata": {},
   "outputs": [
    {
     "name": "stdout",
     "output_type": "stream",
     "text": [
      "Percentage of dog faces detected in short human_files dataset: 1\n",
      "Percentage of dog faces detected in short dog_files dataset: 100\n"
     ]
    }
   ],
   "source": [
    "human_files_short = human_files[:100]\n",
    "dog_files_short = train_files[:100]\n",
    "# Do NOT modify the code above this line.\n",
    "\n",
    "s1, s2 = 0, 0\n",
    "for human_ipath in human_files_short:\n",
    "    s1 += dog_detector(human_ipath)\n",
    "for dog_ipath in dog_files_short:\n",
    "    s2 += dog_detector(dog_ipath)\n",
    "\n",
    "print(\"Percentage of dog faces detected in short human_files dataset: {}\".format(s1))\n",
    "print(\"Percentage of dog faces detected in short dog_files dataset: {}\".format(s2))"
   ]
  },
  {
   "cell_type": "markdown",
   "metadata": {},
   "source": [
    "---\n",
    "<a id='step3'></a>\n",
    "## Step 3: Create a CNN to Classify Dog Breeds (from Scratch)\n",
    "\n",
    "Now that we have functions for detecting humans and dogs in images, we need a way to predict breed from images.  In this step, you will create a CNN that classifies dog breeds.  You must create your CNN _from scratch_ (so, you can't use transfer learning _yet_!), and you must attain a test accuracy of at least 1%.  In Step 5 of this notebook, you will have the opportunity to use transfer learning to create a CNN that attains greatly improved accuracy.\n",
    "\n",
    "Be careful with adding too many trainable layers!  More parameters means longer training, which means you are more likely to need a GPU to accelerate the training process.  Thankfully, Keras provides a handy estimate of the time that each epoch is likely to take; you can extrapolate this estimate to figure out how long it will take for your algorithm to train. \n",
    "\n",
    "We mention that the task of assigning breed to dogs from images is considered exceptionally challenging.  To see why, consider that *even a human* would have great difficulty in distinguishing between a Brittany and a Welsh Springer Spaniel.  \n",
    "\n",
    "Brittany | Welsh Springer Spaniel\n",
    "- | - \n",
    "<img src=\"images/Brittany_02625.jpg\" width=\"100\"> | <img src=\"images/Welsh_springer_spaniel_08203.jpg\" width=\"200\">\n",
    "\n",
    "It is not difficult to find other dog breed pairs with minimal inter-class variation (for instance, Curly-Coated Retrievers and American Water Spaniels).  \n",
    "\n",
    "Curly-Coated Retriever | American Water Spaniel\n",
    "- | -\n",
    "<img src=\"images/Curly-coated_retriever_03896.jpg\" width=\"200\"> | <img src=\"images/American_water_spaniel_00648.jpg\" width=\"200\">\n",
    "\n",
    "\n",
    "Likewise, recall that labradors come in yellow, chocolate, and black.  Your vision-based algorithm will have to conquer this high intra-class variation to determine how to classify all of these different shades as the same breed.  \n",
    "\n",
    "Yellow Labrador | Chocolate Labrador | Black Labrador\n",
    "- | -\n",
    "<img src=\"images/Labrador_retriever_06457.jpg\" width=\"150\"> | <img src=\"images/Labrador_retriever_06455.jpg\" width=\"240\"> | <img src=\"images/Labrador_retriever_06449.jpg\" width=\"220\">\n",
    "\n",
    "We also mention that random chance presents an exceptionally low bar: setting aside the fact that the classes are slightly imabalanced, a random guess will provide a correct answer roughly 1 in 133 times, which corresponds to an accuracy of less than 1%.  \n",
    "\n",
    "Remember that the practice is far ahead of the theory in deep learning.  Experiment with many different architectures, and trust your intuition.  And, of course, have fun! \n",
    "\n",
    "### Pre-process the Data\n",
    "\n",
    "We rescale the images by dividing every pixel in every image by 255."
   ]
  },
  {
   "cell_type": "code",
   "execution_count": 14,
   "metadata": {},
   "outputs": [
    {
     "name": "stderr",
     "output_type": "stream",
     "text": [
      "100%|██████████| 6680/6680 [00:34<00:00, 195.54it/s]\n",
      "100%|██████████| 835/835 [00:09<00:00, 89.63it/s] \n",
      "100%|██████████| 836/836 [00:09<00:00, 84.83it/s] \n"
     ]
    }
   ],
   "source": [
    "from PIL import ImageFile                            \n",
    "ImageFile.LOAD_TRUNCATED_IMAGES = True                 \n",
    "\n",
    "# pre-process the data for Keras\n",
    "train_tensors = paths_to_tensor(train_files).astype('float32')/255\n",
    "valid_tensors = paths_to_tensor(valid_files).astype('float32')/255\n",
    "test_tensors = paths_to_tensor(test_files).astype('float32')/255"
   ]
  },
  {
   "cell_type": "markdown",
   "metadata": {},
   "source": [
    "### (IMPLEMENTATION) Model Architecture\n",
    "\n",
    "Create a CNN to classify dog breed.  At the end of your code cell block, summarize the layers of your model by executing the line:\n",
    "    \n",
    "        model.summary()\n",
    "\n",
    "We have imported some Python modules to get you started, but feel free to import as many modules as you need.  If you end up getting stuck, here's a hint that specifies a model that trains relatively fast on CPU and attains >1% test accuracy in 5 epochs:\n",
    "\n",
    "![Sample CNN](images/sample_cnn.png)\n",
    "           \n",
    "__Question 4:__ Outline the steps you took to get to your final CNN architecture and your reasoning at each step.  If you chose to use the hinted architecture above, describe why you think that CNN architecture should work well for the image classification task.\n",
    "\n",
    "__Answer:__ "
   ]
  },
  {
   "cell_type": "code",
   "execution_count": 16,
   "metadata": {
    "collapsed": true
   },
   "outputs": [],
   "source": [
    "#Implements Image Aumentation as done in aind2-cnn jupyter notebook for cifar10\n",
    "#See https://github.com/udacity/aind2-cnn/blob/master/cifar10-augmentation/\n",
    "\n",
    "from keras.preprocessing.image import ImageDataGenerator\n",
    "\n",
    "# create and configure augmented image generator\n",
    "datagen_train = ImageDataGenerator(\n",
    "    width_shift_range=0.1,  # randomly shift images horizontally (10% of total width)\n",
    "    height_shift_range=0.1,  # randomly shift images vertically (10% of total height)\n",
    "    horizontal_flip=True) # randomly flip images horizontally\n",
    "\n",
    "# create and configure augmented image generator\n",
    "datagen_valid = ImageDataGenerator(\n",
    "    width_shift_range=0.1,  # randomly shift images horizontally (10% of total width)\n",
    "    height_shift_range=0.1,  # randomly shift images vertically (10% of total height)\n",
    "    horizontal_flip=True) # randomly flip images horizontally\n",
    "\n",
    "# fit augmented image generator on data\n",
    "datagen_train.fit(train_tensors)\n",
    "datagen_valid.fit(valid_tensors)"
   ]
  },
  {
   "cell_type": "code",
   "execution_count": 17,
   "metadata": {},
   "outputs": [
    {
     "name": "stdout",
     "output_type": "stream",
     "text": [
      "_________________________________________________________________\n",
      "Layer (type)                 Output Shape              Param #   \n",
      "=================================================================\n",
      "conv2d_1 (Conv2D)            (None, 224, 224, 16)      208       \n",
      "_________________________________________________________________\n",
      "max_pooling2d_2 (MaxPooling2 (None, 112, 112, 16)      0         \n",
      "_________________________________________________________________\n",
      "conv2d_2 (Conv2D)            (None, 112, 112, 32)      2080      \n",
      "_________________________________________________________________\n",
      "max_pooling2d_3 (MaxPooling2 (None, 56, 56, 32)        0         \n",
      "_________________________________________________________________\n",
      "conv2d_3 (Conv2D)            (None, 56, 56, 64)        8256      \n",
      "_________________________________________________________________\n",
      "max_pooling2d_4 (MaxPooling2 (None, 28, 28, 64)        0         \n",
      "_________________________________________________________________\n",
      "conv2d_4 (Conv2D)            (None, 28, 28, 128)       32896     \n",
      "_________________________________________________________________\n",
      "max_pooling2d_5 (MaxPooling2 (None, 14, 14, 128)       0         \n",
      "_________________________________________________________________\n",
      "conv2d_5 (Conv2D)            (None, 14, 14, 256)       131328    \n",
      "_________________________________________________________________\n",
      "max_pooling2d_6 (MaxPooling2 (None, 7, 7, 256)         0         \n",
      "_________________________________________________________________\n",
      "global_average_pooling2d_1 ( (None, 256)               0         \n",
      "_________________________________________________________________\n",
      "dense_1 (Dense)              (None, 133)               34181     \n",
      "=================================================================\n",
      "Total params: 208,949\n",
      "Trainable params: 208,949\n",
      "Non-trainable params: 0\n",
      "_________________________________________________________________\n"
     ]
    }
   ],
   "source": [
    "from keras.layers import Conv2D, MaxPooling2D, GlobalAveragePooling2D\n",
    "from keras.layers import Dropout, Flatten, Dense\n",
    "from keras.models import Sequential\n",
    "\n",
    "model = Sequential()\n",
    "\n",
    "model.add(Conv2D(filters=16, kernel_size=2, padding='same', activation='relu', \n",
    "                        input_shape=(224, 224, 3)))\n",
    "model.add(MaxPooling2D(pool_size=2))\n",
    "model.add(Conv2D(filters=32, kernel_size=2, padding='same', activation='relu'))\n",
    "model.add(MaxPooling2D(pool_size=2))\n",
    "model.add(Conv2D(filters=64, kernel_size=2, padding='same', activation='relu'))\n",
    "model.add(MaxPooling2D(pool_size=2))\n",
    "model.add(Conv2D(filters=128, kernel_size=2, padding='same', activation='relu'))\n",
    "model.add(MaxPooling2D(pool_size=2))\n",
    "model.add(Conv2D(filters=256, kernel_size=2, padding='same', activation='relu'))\n",
    "model.add(MaxPooling2D(pool_size=2))\n",
    "model.add(GlobalAveragePooling2D())\n",
    "model.add(Dense(133, activation='softmax'))\n",
    "\n",
    "model.summary()"
   ]
  },
  {
   "cell_type": "markdown",
   "metadata": {},
   "source": [
    "### Compile the Model"
   ]
  },
  {
   "cell_type": "code",
   "execution_count": 18,
   "metadata": {
    "collapsed": true
   },
   "outputs": [],
   "source": [
    "model.compile(optimizer='rmsprop', loss='categorical_crossentropy', metrics=['accuracy'])"
   ]
  },
  {
   "cell_type": "markdown",
   "metadata": {},
   "source": [
    "### (IMPLEMENTATION) Train the Model\n",
    "\n",
    "Train your model in the code cell below.  Use model checkpointing to save the model that attains the best validation loss.\n",
    "\n",
    "You are welcome to [augment the training data](https://blog.keras.io/building-powerful-image-classification-models-using-very-little-data.html), but this is not a requirement. "
   ]
  },
  {
   "cell_type": "code",
   "execution_count": 20,
   "metadata": {},
   "outputs": [
    {
     "name": "stdout",
     "output_type": "stream",
     "text": [
      "Epoch 1/100\n",
      "333/334 [============================>.] - ETA: 0s - loss: 4.8107 - acc: 0.0158Epoch 00000: val_loss improved from inf to 4.72039, saving model to saved_models/weights.best.from_scratch.hdf5\n",
      "334/334 [==============================] - 32s - loss: 4.8102 - acc: 0.0157 - val_loss: 4.7204 - val_acc: 0.0207\n",
      "Epoch 2/100\n",
      "333/334 [============================>.] - ETA: 0s - loss: 4.7109 - acc: 0.0254Epoch 00001: val_loss improved from 4.72039 to 4.68662, saving model to saved_models/weights.best.from_scratch.hdf5\n",
      "334/334 [==============================] - 31s - loss: 4.7099 - acc: 0.0254 - val_loss: 4.6866 - val_acc: 0.0317\n",
      "Epoch 3/100\n",
      "333/334 [============================>.] - ETA: 0s - loss: 4.6213 - acc: 0.0344Epoch 00002: val_loss improved from 4.68662 to 4.58102, saving model to saved_models/weights.best.from_scratch.hdf5\n",
      "334/334 [==============================] - 32s - loss: 4.6208 - acc: 0.0344 - val_loss: 4.5810 - val_acc: 0.0402\n",
      "Epoch 4/100\n",
      "333/334 [============================>.] - ETA: 0s - loss: 4.4751 - acc: 0.0465Epoch 00003: val_loss improved from 4.58102 to 4.41047, saving model to saved_models/weights.best.from_scratch.hdf5\n",
      "334/334 [==============================] - 31s - loss: 4.4742 - acc: 0.0469 - val_loss: 4.4105 - val_acc: 0.0512\n",
      "Epoch 5/100\n",
      "333/334 [============================>.] - ETA: 0s - loss: 4.3139 - acc: 0.0538Epoch 00004: val_loss improved from 4.41047 to 4.29608, saving model to saved_models/weights.best.from_scratch.hdf5\n",
      "334/334 [==============================] - 31s - loss: 4.3131 - acc: 0.0540 - val_loss: 4.2961 - val_acc: 0.0610\n",
      "Epoch 6/100\n",
      "333/334 [============================>.] - ETA: 0s - loss: 4.2068 - acc: 0.0629Epoch 00005: val_loss did not improve\n",
      "334/334 [==============================] - 31s - loss: 4.2057 - acc: 0.0627 - val_loss: 4.3000 - val_acc: 0.0598\n",
      "Epoch 7/100\n",
      "333/334 [============================>.] - ETA: 0s - loss: 4.1233 - acc: 0.0758Epoch 00006: val_loss improved from 4.29608 to 4.20375, saving model to saved_models/weights.best.from_scratch.hdf5\n",
      "334/334 [==============================] - 32s - loss: 4.1239 - acc: 0.0760 - val_loss: 4.2038 - val_acc: 0.0707\n",
      "Epoch 8/100\n",
      "333/334 [============================>.] - ETA: 0s - loss: 4.0433 - acc: 0.0820Epoch 00007: val_loss did not improve\n",
      "334/334 [==============================] - 33s - loss: 4.0432 - acc: 0.0820 - val_loss: 4.3745 - val_acc: 0.0537\n",
      "Epoch 9/100\n",
      "333/334 [============================>.] - ETA: 0s - loss: 3.9537 - acc: 0.0973Epoch 00008: val_loss improved from 4.20375 to 4.05022, saving model to saved_models/weights.best.from_scratch.hdf5\n",
      "334/334 [==============================] - 32s - loss: 3.9528 - acc: 0.0975 - val_loss: 4.0502 - val_acc: 0.0817\n",
      "Epoch 10/100\n",
      "333/334 [============================>.] - ETA: 0s - loss: 3.8986 - acc: 0.1029Epoch 00009: val_loss did not improve\n",
      "334/334 [==============================] - 32s - loss: 3.8974 - acc: 0.1030 - val_loss: 4.0580 - val_acc: 0.0866\n",
      "Epoch 11/100\n",
      "333/334 [============================>.] - ETA: 0s - loss: 3.8183 - acc: 0.1162Epoch 00010: val_loss improved from 4.05022 to 4.00907, saving model to saved_models/weights.best.from_scratch.hdf5\n",
      "334/334 [==============================] - 32s - loss: 3.8194 - acc: 0.1160 - val_loss: 4.0091 - val_acc: 0.0915\n",
      "Epoch 12/100\n",
      "333/334 [============================>.] - ETA: 0s - loss: 3.7467 - acc: 0.1264Epoch 00011: val_loss improved from 4.00907 to 3.97942, saving model to saved_models/weights.best.from_scratch.hdf5\n",
      "334/334 [==============================] - 31s - loss: 3.7471 - acc: 0.1262 - val_loss: 3.9794 - val_acc: 0.0890\n",
      "Epoch 13/100\n",
      "333/334 [============================>.] - ETA: 0s - loss: 3.6837 - acc: 0.1303Epoch 00012: val_loss improved from 3.97942 to 3.84489, saving model to saved_models/weights.best.from_scratch.hdf5\n",
      "334/334 [==============================] - 32s - loss: 3.6847 - acc: 0.1304 - val_loss: 3.8449 - val_acc: 0.1195\n",
      "Epoch 14/100\n",
      "333/334 [============================>.] - ETA: 0s - loss: 3.6281 - acc: 0.1417Epoch 00013: val_loss did not improve\n",
      "334/334 [==============================] - 32s - loss: 3.6274 - acc: 0.1416 - val_loss: 4.0187 - val_acc: 0.1146\n",
      "Epoch 15/100\n",
      "333/334 [============================>.] - ETA: 0s - loss: 3.5692 - acc: 0.1498Epoch 00014: val_loss improved from 3.84489 to 3.81902, saving model to saved_models/weights.best.from_scratch.hdf5\n",
      "334/334 [==============================] - 32s - loss: 3.5696 - acc: 0.1500 - val_loss: 3.8190 - val_acc: 0.1207\n",
      "Epoch 16/100\n",
      "333/334 [============================>.] - ETA: 0s - loss: 3.5163 - acc: 0.1592Epoch 00015: val_loss improved from 3.81902 to 3.73060, saving model to saved_models/weights.best.from_scratch.hdf5\n",
      "334/334 [==============================] - 32s - loss: 3.5172 - acc: 0.1593 - val_loss: 3.7306 - val_acc: 0.1232\n",
      "Epoch 17/100\n",
      "333/334 [============================>.] - ETA: 0s - loss: 3.4620 - acc: 0.1715Epoch 00016: val_loss improved from 3.73060 to 3.66819, saving model to saved_models/weights.best.from_scratch.hdf5\n",
      "334/334 [==============================] - 32s - loss: 3.4611 - acc: 0.1714 - val_loss: 3.6682 - val_acc: 0.1427\n",
      "Epoch 18/100\n",
      "333/334 [============================>.] - ETA: 0s - loss: 3.4153 - acc: 0.1818Epoch 00017: val_loss improved from 3.66819 to 3.56834, saving model to saved_models/weights.best.from_scratch.hdf5\n",
      "334/334 [==============================] - 33s - loss: 3.4153 - acc: 0.1817 - val_loss: 3.5683 - val_acc: 0.1402\n",
      "Epoch 19/100\n",
      "333/334 [============================>.] - ETA: 0s - loss: 3.3639 - acc: 0.1932Epoch 00018: val_loss did not improve\n",
      "334/334 [==============================] - 32s - loss: 3.3625 - acc: 0.1933 - val_loss: 3.6086 - val_acc: 0.1439\n",
      "Epoch 20/100\n",
      "333/334 [============================>.] - ETA: 0s - loss: 3.3103 - acc: 0.1991Epoch 00019: val_loss did not improve\n",
      "334/334 [==============================] - 32s - loss: 3.3130 - acc: 0.1988 - val_loss: 3.5869 - val_acc: 0.1463\n",
      "Epoch 21/100\n",
      "333/334 [============================>.] - ETA: 0s - loss: 3.2684 - acc: 0.2062Epoch 00020: val_loss improved from 3.56834 to 3.50941, saving model to saved_models/weights.best.from_scratch.hdf5\n",
      "334/334 [==============================] - 33s - loss: 3.2682 - acc: 0.2060 - val_loss: 3.5094 - val_acc: 0.1793\n",
      "Epoch 22/100\n",
      "333/334 [============================>.] - ETA: 0s - loss: 3.2097 - acc: 0.2153Epoch 00021: val_loss did not improve\n",
      "334/334 [==============================] - 33s - loss: 3.2085 - acc: 0.2154 - val_loss: 3.5759 - val_acc: 0.1512\n",
      "Epoch 23/100\n",
      "333/334 [============================>.] - ETA: 0s - loss: 3.1735 - acc: 0.2266Epoch 00022: val_loss improved from 3.50941 to 3.46378, saving model to saved_models/weights.best.from_scratch.hdf5\n",
      "334/334 [==============================] - 32s - loss: 3.1726 - acc: 0.2266 - val_loss: 3.4638 - val_acc: 0.1732\n",
      "Epoch 24/100\n",
      "333/334 [============================>.] - ETA: 0s - loss: 3.1281 - acc: 0.2309Epoch 00023: val_loss improved from 3.46378 to 3.36948, saving model to saved_models/weights.best.from_scratch.hdf5\n",
      "334/334 [==============================] - 33s - loss: 3.1286 - acc: 0.2310 - val_loss: 3.3695 - val_acc: 0.2024\n",
      "Epoch 25/100\n",
      "333/334 [============================>.] - ETA: 0s - loss: 3.0913 - acc: 0.2465Epoch 00024: val_loss did not improve\n",
      "334/334 [==============================] - 33s - loss: 3.0916 - acc: 0.2467 - val_loss: 3.4661 - val_acc: 0.1878\n",
      "Epoch 26/100\n",
      "333/334 [============================>.] - ETA: 0s - loss: 3.0286 - acc: 0.2515Epoch 00025: val_loss improved from 3.36948 to 3.36609, saving model to saved_models/weights.best.from_scratch.hdf5\n",
      "334/334 [==============================] - 32s - loss: 3.0298 - acc: 0.2515 - val_loss: 3.3661 - val_acc: 0.1915\n",
      "Epoch 27/100\n",
      "333/334 [============================>.] - ETA: 0s - loss: 2.9882 - acc: 0.2613Epoch 00026: val_loss did not improve\n",
      "334/334 [==============================] - 32s - loss: 2.9892 - acc: 0.2608 - val_loss: 3.3915 - val_acc: 0.1805\n",
      "Epoch 28/100\n",
      "333/334 [============================>.] - ETA: 0s - loss: 2.9568 - acc: 0.2676Epoch 00027: val_loss did not improve\n"
     ]
    },
    {
     "name": "stdout",
     "output_type": "stream",
     "text": [
      "334/334 [==============================] - 33s - loss: 2.9555 - acc: 0.2675 - val_loss: 3.5392 - val_acc: 0.2037\n",
      "Epoch 29/100\n",
      "333/334 [============================>.] - ETA: 0s - loss: 2.9312 - acc: 0.2643Epoch 00028: val_loss did not improve\n",
      "334/334 [==============================] - 33s - loss: 2.9309 - acc: 0.2645 - val_loss: 3.3924 - val_acc: 0.1951\n",
      "Epoch 30/100\n",
      "333/334 [============================>.] - ETA: 0s - loss: 2.8723 - acc: 0.2821Epoch 00029: val_loss improved from 3.36609 to 3.34028, saving model to saved_models/weights.best.from_scratch.hdf5\n",
      "334/334 [==============================] - 32s - loss: 2.8734 - acc: 0.2817 - val_loss: 3.3403 - val_acc: 0.1963\n",
      "Epoch 31/100\n",
      "333/334 [============================>.] - ETA: 0s - loss: 2.8458 - acc: 0.2938Epoch 00030: val_loss improved from 3.34028 to 3.23270, saving model to saved_models/weights.best.from_scratch.hdf5\n",
      "334/334 [==============================] - 33s - loss: 2.8441 - acc: 0.2940 - val_loss: 3.2327 - val_acc: 0.2427\n",
      "Epoch 32/100\n",
      "333/334 [============================>.] - ETA: 0s - loss: 2.7890 - acc: 0.2910Epoch 00031: val_loss did not improve\n",
      "334/334 [==============================] - 35s - loss: 2.7880 - acc: 0.2915 - val_loss: 3.3183 - val_acc: 0.2354\n",
      "Epoch 33/100\n",
      "333/334 [============================>.] - ETA: 0s - loss: 2.7561 - acc: 0.3104Epoch 00032: val_loss did not improve\n",
      "334/334 [==============================] - 33s - loss: 2.7563 - acc: 0.3102 - val_loss: 3.3848 - val_acc: 0.2317\n",
      "Epoch 34/100\n",
      "333/334 [============================>.] - ETA: 0s - loss: 2.7153 - acc: 0.3164Epoch 00033: val_loss improved from 3.23270 to 3.18616, saving model to saved_models/weights.best.from_scratch.hdf5\n",
      "334/334 [==============================] - 33s - loss: 2.7168 - acc: 0.3160 - val_loss: 3.1862 - val_acc: 0.2220\n",
      "Epoch 35/100\n",
      "333/334 [============================>.] - ETA: 0s - loss: 2.6969 - acc: 0.3152Epoch 00034: val_loss improved from 3.18616 to 3.13707, saving model to saved_models/weights.best.from_scratch.hdf5\n",
      "334/334 [==============================] - 33s - loss: 2.6970 - acc: 0.3153 - val_loss: 3.1371 - val_acc: 0.2415\n",
      "Epoch 36/100\n",
      "333/334 [============================>.] - ETA: 0s - loss: 2.6521 - acc: 0.3296Epoch 00035: val_loss did not improve\n",
      "334/334 [==============================] - 33s - loss: 2.6528 - acc: 0.3296 - val_loss: 3.2191 - val_acc: 0.2268\n",
      "Epoch 37/100\n",
      "333/334 [============================>.] - ETA: 0s - loss: 2.6210 - acc: 0.3353Epoch 00036: val_loss did not improve\n",
      "334/334 [==============================] - 32s - loss: 2.6206 - acc: 0.3355 - val_loss: 3.1997 - val_acc: 0.2659\n",
      "Epoch 38/100\n",
      "333/334 [============================>.] - ETA: 0s - loss: 2.5893 - acc: 0.3468Epoch 00037: val_loss did not improve\n",
      "334/334 [==============================] - 33s - loss: 2.5886 - acc: 0.3472 - val_loss: 3.3800 - val_acc: 0.2366\n",
      "Epoch 39/100\n",
      "333/334 [============================>.] - ETA: 0s - loss: 2.5381 - acc: 0.3583Epoch 00038: val_loss improved from 3.13707 to 3.06296, saving model to saved_models/weights.best.from_scratch.hdf5\n",
      "334/334 [==============================] - 33s - loss: 2.5382 - acc: 0.3584 - val_loss: 3.0630 - val_acc: 0.2732\n",
      "Epoch 40/100\n",
      "333/334 [============================>.] - ETA: 0s - loss: 2.5227 - acc: 0.3524Epoch 00039: val_loss did not improve\n",
      "334/334 [==============================] - 33s - loss: 2.5222 - acc: 0.3528 - val_loss: 3.1744 - val_acc: 0.2573\n",
      "Epoch 41/100\n",
      "333/334 [============================>.] - ETA: 0s - loss: 2.4766 - acc: 0.3653Epoch 00040: val_loss did not improve\n",
      "334/334 [==============================] - 33s - loss: 2.4766 - acc: 0.3654 - val_loss: 3.0858 - val_acc: 0.2732\n",
      "Epoch 42/100\n",
      "333/334 [============================>.] - ETA: 0s - loss: 2.4608 - acc: 0.3685Epoch 00041: val_loss improved from 3.06296 to 3.05348, saving model to saved_models/weights.best.from_scratch.hdf5\n",
      "334/334 [==============================] - 33s - loss: 2.4614 - acc: 0.3683 - val_loss: 3.0535 - val_acc: 0.2610\n",
      "Epoch 43/100\n",
      "333/334 [============================>.] - ETA: 0s - loss: 2.4325 - acc: 0.3734Epoch 00042: val_loss did not improve\n",
      "334/334 [==============================] - 33s - loss: 2.4311 - acc: 0.3738 - val_loss: 3.2431 - val_acc: 0.2659\n",
      "Epoch 44/100\n",
      "333/334 [============================>.] - ETA: 0s - loss: 2.4022 - acc: 0.3779Epoch 00043: val_loss did not improve\n",
      "334/334 [==============================] - 33s - loss: 2.4038 - acc: 0.3772 - val_loss: 3.1237 - val_acc: 0.2744\n",
      "Epoch 45/100\n",
      "333/334 [============================>.] - ETA: 0s - loss: 2.3840 - acc: 0.3887Epoch 00044: val_loss did not improve\n",
      "334/334 [==============================] - 34s - loss: 2.3835 - acc: 0.3888 - val_loss: 3.1418 - val_acc: 0.2695\n",
      "Epoch 46/100\n",
      "333/334 [============================>.] - ETA: 0s - loss: 2.3653 - acc: 0.3863Epoch 00045: val_loss did not improve\n",
      "334/334 [==============================] - 35s - loss: 2.3656 - acc: 0.3864 - val_loss: 3.0942 - val_acc: 0.2951\n",
      "Epoch 47/100\n",
      "333/334 [============================>.] - ETA: 0s - loss: 2.3202 - acc: 0.3982Epoch 00046: val_loss did not improve\n",
      "334/334 [==============================] - 33s - loss: 2.3210 - acc: 0.3978 - val_loss: 3.3621 - val_acc: 0.2732\n",
      "Epoch 48/100\n",
      "333/334 [============================>.] - ETA: 0s - loss: 2.2817 - acc: 0.4149Epoch 00047: val_loss did not improve\n",
      "334/334 [==============================] - 33s - loss: 2.2806 - acc: 0.4151 - val_loss: 3.1036 - val_acc: 0.3110\n",
      "Epoch 49/100\n",
      "333/334 [============================>.] - ETA: 0s - loss: 2.2770 - acc: 0.4150Epoch 00048: val_loss did not improve\n",
      "334/334 [==============================] - 33s - loss: 2.2777 - acc: 0.4150 - val_loss: 3.0546 - val_acc: 0.2854\n",
      "Epoch 50/100\n",
      "333/334 [============================>.] - ETA: 0s - loss: 2.2453 - acc: 0.4168Epoch 00049: val_loss improved from 3.05348 to 2.94875, saving model to saved_models/weights.best.from_scratch.hdf5\n",
      "334/334 [==============================] - 35s - loss: 2.2448 - acc: 0.4168 - val_loss: 2.9488 - val_acc: 0.3183\n",
      "Epoch 51/100\n",
      "333/334 [============================>.] - ETA: 0s - loss: 2.2184 - acc: 0.4195Epoch 00050: val_loss improved from 2.94875 to 2.84092, saving model to saved_models/weights.best.from_scratch.hdf5\n",
      "334/334 [==============================] - 33s - loss: 2.2181 - acc: 0.4196 - val_loss: 2.8409 - val_acc: 0.3244\n",
      "Epoch 52/100\n",
      "333/334 [============================>.] - ETA: 0s - loss: 2.1956 - acc: 0.4242Epoch 00051: val_loss did not improve\n",
      "334/334 [==============================] - 33s - loss: 2.1977 - acc: 0.4237 - val_loss: 3.0247 - val_acc: 0.3037\n",
      "Epoch 53/100\n",
      "333/334 [============================>.] - ETA: 0s - loss: 2.1766 - acc: 0.4203Epoch 00052: val_loss did not improve\n",
      "334/334 [==============================] - 33s - loss: 2.1786 - acc: 0.4201 - val_loss: 2.9651 - val_acc: 0.3134\n",
      "Epoch 54/100\n",
      "333/334 [============================>.] - ETA: 0s - loss: 2.1426 - acc: 0.4432Epoch 00053: val_loss did not improve\n",
      "334/334 [==============================] - 35s - loss: 2.1435 - acc: 0.4431 - val_loss: 2.9366 - val_acc: 0.3341\n",
      "Epoch 55/100\n",
      "333/334 [============================>.] - ETA: 0s - loss: 2.1297 - acc: 0.4348Epoch 00054: val_loss did not improve\n",
      "334/334 [==============================] - 33s - loss: 2.1298 - acc: 0.4344 - val_loss: 3.0922 - val_acc: 0.3024\n",
      "Epoch 56/100\n",
      "333/334 [============================>.] - ETA: 0s - loss: 2.1229 - acc: 0.4393Epoch 00055: val_loss did not improve\n",
      "334/334 [==============================] - 33s - loss: 2.1235 - acc: 0.4391 - val_loss: 2.8554 - val_acc: 0.2976\n",
      "Epoch 57/100\n",
      "333/334 [============================>.] - ETA: 0s - loss: 2.0787 - acc: 0.4511Epoch 00056: val_loss did not improve\n",
      "334/334 [==============================] - 33s - loss: 2.0765 - acc: 0.4516 - val_loss: 2.9839 - val_acc: 0.3268\n",
      "Epoch 58/100\n",
      "333/334 [============================>.] - ETA: 0s - loss: 2.0615 - acc: 0.4524Epoch 00057: val_loss did not improve\n",
      "334/334 [==============================] - 33s - loss: 2.0594 - acc: 0.4527 - val_loss: 2.8990 - val_acc: 0.3415\n",
      "Epoch 59/100\n",
      "333/334 [============================>.] - ETA: 0s - loss: 2.0306 - acc: 0.4617Epoch 00058: val_loss did not improve\n"
     ]
    },
    {
     "name": "stdout",
     "output_type": "stream",
     "text": [
      "334/334 [==============================] - 34s - loss: 2.0286 - acc: 0.4621 - val_loss: 3.0404 - val_acc: 0.3098\n",
      "Epoch 60/100\n",
      "333/334 [============================>.] - ETA: 0s - loss: 2.0188 - acc: 0.4697Epoch 00059: val_loss did not improve\n",
      "334/334 [==============================] - 35s - loss: 2.0194 - acc: 0.4695 - val_loss: 3.2737 - val_acc: 0.3439\n",
      "Epoch 61/100\n",
      "333/334 [============================>.] - ETA: 0s - loss: 2.0013 - acc: 0.4688Epoch 00060: val_loss improved from 2.84092 to 2.74933, saving model to saved_models/weights.best.from_scratch.hdf5\n",
      "334/334 [==============================] - 41s - loss: 2.0022 - acc: 0.4684 - val_loss: 2.7493 - val_acc: 0.3451\n",
      "Epoch 62/100\n",
      "333/334 [============================>.] - ETA: 0s - loss: 1.9897 - acc: 0.4793Epoch 00061: val_loss did not improve\n",
      "334/334 [==============================] - 43s - loss: 1.9909 - acc: 0.4787 - val_loss: 3.1040 - val_acc: 0.3000\n",
      "Epoch 63/100\n",
      "333/334 [============================>.] - ETA: 0s - loss: 1.9634 - acc: 0.4793Epoch 00062: val_loss did not improve\n",
      "334/334 [==============================] - 43s - loss: 1.9626 - acc: 0.4795 - val_loss: 2.8876 - val_acc: 0.3476\n",
      "Epoch 64/100\n",
      "333/334 [============================>.] - ETA: 0s - loss: 1.9423 - acc: 0.4803Epoch 00063: val_loss did not improve\n",
      "334/334 [==============================] - 43s - loss: 1.9407 - acc: 0.4807 - val_loss: 2.7783 - val_acc: 0.3280\n",
      "Epoch 65/100\n",
      "333/334 [============================>.] - ETA: 0s - loss: 1.9179 - acc: 0.4898Epoch 00064: val_loss did not improve\n",
      "334/334 [==============================] - 43s - loss: 1.9163 - acc: 0.4901 - val_loss: 2.9193 - val_acc: 0.3354\n",
      "Epoch 66/100\n",
      "333/334 [============================>.] - ETA: 0s - loss: 1.9179 - acc: 0.4835Epoch 00065: val_loss did not improve\n",
      "334/334 [==============================] - 44s - loss: 1.9170 - acc: 0.4831 - val_loss: 2.9541 - val_acc: 0.3280\n",
      "Epoch 67/100\n",
      "333/334 [============================>.] - ETA: 0s - loss: 1.8969 - acc: 0.4929Epoch 00066: val_loss did not improve\n",
      "334/334 [==============================] - 43s - loss: 1.8970 - acc: 0.4927 - val_loss: 2.9407 - val_acc: 0.3451\n",
      "Epoch 68/100\n",
      "333/334 [============================>.] - ETA: 0s - loss: 1.8685 - acc: 0.5086Epoch 00067: val_loss did not improve\n",
      "334/334 [==============================] - 43s - loss: 1.8684 - acc: 0.5087 - val_loss: 2.7917 - val_acc: 0.3390\n",
      "Epoch 69/100\n",
      "333/334 [============================>.] - ETA: 0s - loss: 1.8628 - acc: 0.4991Epoch 00068: val_loss improved from 2.74933 to 2.68815, saving model to saved_models/weights.best.from_scratch.hdf5\n",
      "334/334 [==============================] - 43s - loss: 1.8638 - acc: 0.4994 - val_loss: 2.6881 - val_acc: 0.3610\n",
      "Epoch 70/100\n",
      "333/334 [============================>.] - ETA: 0s - loss: 1.8484 - acc: 0.5042Epoch 00069: val_loss did not improve\n",
      "334/334 [==============================] - 43s - loss: 1.8518 - acc: 0.5033 - val_loss: 3.4735 - val_acc: 0.3207\n",
      "Epoch 71/100\n",
      "333/334 [============================>.] - ETA: 0s - loss: 1.8296 - acc: 0.5006Epoch 00070: val_loss did not improve\n",
      "334/334 [==============================] - 43s - loss: 1.8285 - acc: 0.5007 - val_loss: 3.0250 - val_acc: 0.3561\n",
      "Epoch 72/100\n",
      "333/334 [============================>.] - ETA: 0s - loss: 1.8148 - acc: 0.5093Epoch 00071: val_loss did not improve\n",
      "334/334 [==============================] - 43s - loss: 1.8152 - acc: 0.5090 - val_loss: 2.7920 - val_acc: 0.3756\n",
      "Epoch 73/100\n",
      "333/334 [============================>.] - ETA: 0s - loss: 1.7720 - acc: 0.5231Epoch 00072: val_loss did not improve\n",
      "334/334 [==============================] - 44s - loss: 1.7723 - acc: 0.5228 - val_loss: 2.8815 - val_acc: 0.3476\n",
      "Epoch 74/100\n",
      "333/334 [============================>.] - ETA: 0s - loss: 1.7772 - acc: 0.5183Epoch 00073: val_loss did not improve\n",
      "334/334 [==============================] - 43s - loss: 1.7746 - acc: 0.5189 - val_loss: 2.9364 - val_acc: 0.3573\n",
      "Epoch 75/100\n",
      "333/334 [============================>.] - ETA: 0s - loss: 1.7569 - acc: 0.5324Epoch 00074: val_loss improved from 2.68815 to 2.68655, saving model to saved_models/weights.best.from_scratch.hdf5\n",
      "334/334 [==============================] - 43s - loss: 1.7562 - acc: 0.5326 - val_loss: 2.6866 - val_acc: 0.3549\n",
      "Epoch 76/100\n",
      "333/334 [============================>.] - ETA: 0s - loss: 1.7496 - acc: 0.5284Epoch 00075: val_loss did not improve\n",
      "334/334 [==============================] - 43s - loss: 1.7500 - acc: 0.5283 - val_loss: 2.8702 - val_acc: 0.3805\n",
      "Epoch 77/100\n",
      "333/334 [============================>.] - ETA: 0s - loss: 1.7150 - acc: 0.5339Epoch 00076: val_loss did not improve\n",
      "334/334 [==============================] - 43s - loss: 1.7162 - acc: 0.5335 - val_loss: 2.8004 - val_acc: 0.3598\n",
      "Epoch 78/100\n",
      "333/334 [============================>.] - ETA: 0s - loss: 1.7284 - acc: 0.5290Epoch 00077: val_loss improved from 2.68655 to 2.67039, saving model to saved_models/weights.best.from_scratch.hdf5\n",
      "334/334 [==============================] - 43s - loss: 1.7261 - acc: 0.5298 - val_loss: 2.6704 - val_acc: 0.3598\n",
      "Epoch 79/100\n",
      "333/334 [============================>.] - ETA: 0s - loss: 1.7097 - acc: 0.5338Epoch 00078: val_loss did not improve\n",
      "334/334 [==============================] - 44s - loss: 1.7095 - acc: 0.5335 - val_loss: 2.6757 - val_acc: 0.3829\n",
      "Epoch 80/100\n",
      "333/334 [============================>.] - ETA: 0s - loss: 1.6881 - acc: 0.5468Epoch 00079: val_loss did not improve\n",
      "334/334 [==============================] - 43s - loss: 1.6876 - acc: 0.5466 - val_loss: 3.0178 - val_acc: 0.3768\n",
      "Epoch 81/100\n",
      "333/334 [============================>.] - ETA: 0s - loss: 1.6763 - acc: 0.5411Epoch 00080: val_loss did not improve\n",
      "334/334 [==============================] - 43s - loss: 1.6761 - acc: 0.5412 - val_loss: 2.9320 - val_acc: 0.3817\n",
      "Epoch 82/100\n",
      "333/334 [============================>.] - ETA: 0s - loss: 1.6790 - acc: 0.5455Epoch 00081: val_loss did not improve\n",
      "334/334 [==============================] - 44s - loss: 1.6783 - acc: 0.5454 - val_loss: 2.9929 - val_acc: 0.3817\n",
      "Epoch 83/100\n",
      "333/334 [============================>.] - ETA: 0s - loss: 1.6574 - acc: 0.5497Epoch 00082: val_loss did not improve\n",
      "334/334 [==============================] - 44s - loss: 1.6570 - acc: 0.5497 - val_loss: 2.7328 - val_acc: 0.3878\n",
      "Epoch 84/100\n",
      "333/334 [============================>.] - ETA: 0s - loss: 1.6399 - acc: 0.5514Epoch 00083: val_loss did not improve\n",
      "334/334 [==============================] - 43s - loss: 1.6383 - acc: 0.5515 - val_loss: 2.7580 - val_acc: 0.3854\n",
      "Epoch 85/100\n",
      "333/334 [============================>.] - ETA: 0s - loss: 1.6215 - acc: 0.5541Epoch 00084: val_loss did not improve\n",
      "334/334 [==============================] - 43s - loss: 1.6208 - acc: 0.5540 - val_loss: 2.7333 - val_acc: 0.3841\n",
      "Epoch 86/100\n",
      "333/334 [============================>.] - ETA: 0s - loss: 1.6159 - acc: 0.5583Epoch 00085: val_loss did not improve\n",
      "334/334 [==============================] - 43s - loss: 1.6162 - acc: 0.5584 - val_loss: 2.6748 - val_acc: 0.3768\n",
      "Epoch 87/100\n",
      "333/334 [============================>.] - ETA: 0s - loss: 1.6185 - acc: 0.5616Epoch 00086: val_loss did not improve\n",
      "334/334 [==============================] - 43s - loss: 1.6185 - acc: 0.5612 - val_loss: 2.8449 - val_acc: 0.3573\n",
      "Epoch 88/100\n",
      "333/334 [============================>.] - ETA: 0s - loss: 1.5868 - acc: 0.5614Epoch 00087: val_loss did not improve\n",
      "334/334 [==============================] - 43s - loss: 1.5865 - acc: 0.5614 - val_loss: 2.9556 - val_acc: 0.3646\n",
      "Epoch 89/100\n",
      "333/334 [============================>.] - ETA: 0s - loss: 1.5885 - acc: 0.5653Epoch 00088: val_loss did not improve\n",
      "334/334 [==============================] - 43s - loss: 1.5863 - acc: 0.5657 - val_loss: 2.9338 - val_acc: 0.3951\n",
      "Epoch 90/100\n",
      "333/334 [============================>.] - ETA: 0s - loss: 1.5722 - acc: 0.5728Epoch 00089: val_loss did not improve\n",
      "334/334 [==============================] - 43s - loss: 1.5735 - acc: 0.5728 - val_loss: 3.3340 - val_acc: 0.3610\n",
      "Epoch 91/100\n",
      "333/334 [============================>.] - ETA: 0s - loss: 1.5598 - acc: 0.5767Epoch 00090: val_loss did not improve\n"
     ]
    },
    {
     "name": "stdout",
     "output_type": "stream",
     "text": [
      "334/334 [==============================] - 45s - loss: 1.5605 - acc: 0.5765 - val_loss: 2.7651 - val_acc: 0.3537\n",
      "Epoch 92/100\n",
      "333/334 [============================>.] - ETA: 0s - loss: 1.5470 - acc: 0.5739Epoch 00091: val_loss did not improve\n",
      "334/334 [==============================] - 44s - loss: 1.5483 - acc: 0.5735 - val_loss: 2.7267 - val_acc: 0.3744\n",
      "Epoch 93/100\n",
      "333/334 [============================>.] - ETA: 0s - loss: 1.5397 - acc: 0.5796Epoch 00092: val_loss did not improve\n",
      "334/334 [==============================] - 43s - loss: 1.5381 - acc: 0.5802 - val_loss: 2.8840 - val_acc: 0.3756\n",
      "Epoch 94/100\n",
      "333/334 [============================>.] - ETA: 0s - loss: 1.5234 - acc: 0.5811Epoch 00093: val_loss did not improve\n",
      "334/334 [==============================] - 44s - loss: 1.5215 - acc: 0.5816 - val_loss: 2.7507 - val_acc: 0.4049\n",
      "Epoch 95/100\n",
      "333/334 [============================>.] - ETA: 0s - loss: 1.5289 - acc: 0.5841Epoch 00094: val_loss did not improve\n",
      "334/334 [==============================] - 45s - loss: 1.5296 - acc: 0.5837 - val_loss: 2.9620 - val_acc: 0.3720\n",
      "Epoch 96/100\n",
      "333/334 [============================>.] - ETA: 0s - loss: 1.5041 - acc: 0.5884Epoch 00095: val_loss did not improve\n",
      "334/334 [==============================] - 44s - loss: 1.5053 - acc: 0.5876 - val_loss: 2.9685 - val_acc: 0.3756\n",
      "Epoch 97/100\n",
      "333/334 [============================>.] - ETA: 0s - loss: 1.5065 - acc: 0.5862Epoch 00096: val_loss did not improve\n",
      "334/334 [==============================] - 44s - loss: 1.5066 - acc: 0.5862 - val_loss: 2.7380 - val_acc: 0.3854\n",
      "Epoch 98/100\n",
      "333/334 [============================>.] - ETA: 0s - loss: 1.4672 - acc: 0.5911Epoch 00097: val_loss did not improve\n",
      "334/334 [==============================] - 43s - loss: 1.4687 - acc: 0.5909 - val_loss: 2.7725 - val_acc: 0.3854\n",
      "Epoch 99/100\n",
      "333/334 [============================>.] - ETA: 0s - loss: 1.4870 - acc: 0.5892Epoch 00098: val_loss did not improve\n",
      "334/334 [==============================] - 43s - loss: 1.4870 - acc: 0.5897 - val_loss: 2.9278 - val_acc: 0.3671\n",
      "Epoch 100/100\n",
      "333/334 [============================>.] - ETA: 0s - loss: 1.4794 - acc: 0.5880Epoch 00099: val_loss did not improve\n",
      "334/334 [==============================] - 43s - loss: 1.4801 - acc: 0.5877 - val_loss: 2.8978 - val_acc: 0.4098\n"
     ]
    }
   ],
   "source": [
    "from keras.callbacks import ModelCheckpoint  \n",
    "\n",
    "### TODO: specify the number of epochs that you would like to use to train the model.\n",
    "\n",
    "epochs = 100\n",
    "batch_size=20\n",
    "\n",
    "checkpointer = ModelCheckpoint(filepath='saved_models/weights.best.from_scratch.hdf5', \n",
    "                               verbose=1, save_best_only=True)\n",
    "\n",
    "#Set to True to fit the model to the non-augmented datasets\n",
    "if False:\n",
    "    model.fit(train_tensors, train_targets, \n",
    "              validation_data=(valid_tensors, valid_targets),\n",
    "              epochs=epochs, batch_size=batch_size, callbacks=[checkpointer], verbose=1)\n",
    "    \n",
    "#Set to True to fit the model to the augmented datasets\n",
    "if True:    \n",
    "    model.fit_generator(datagen_train.flow(train_tensors, train_targets, batch_size=batch_size),\n",
    "                        steps_per_epoch=train_tensors.shape[0] // batch_size,\n",
    "                        epochs=epochs, verbose=1, callbacks=[checkpointer],\n",
    "                        validation_data=datagen_valid.flow(valid_tensors, valid_targets, batch_size=batch_size),\n",
    "                        validation_steps=valid_tensors.shape[0] // batch_size)\n",
    "    \n"
   ]
  },
  {
   "cell_type": "markdown",
   "metadata": {},
   "source": [
    "### Load the Model with the Best Validation Loss"
   ]
  },
  {
   "cell_type": "code",
   "execution_count": 21,
   "metadata": {
    "collapsed": true
   },
   "outputs": [],
   "source": [
    "model.load_weights('saved_models/weights.best.from_scratch.hdf5')"
   ]
  },
  {
   "cell_type": "markdown",
   "metadata": {},
   "source": [
    "### Test the Model\n",
    "\n",
    "Try out your model on the test dataset of dog images.  Ensure that your test accuracy is greater than 1%."
   ]
  },
  {
   "cell_type": "code",
   "execution_count": 22,
   "metadata": {},
   "outputs": [
    {
     "name": "stdout",
     "output_type": "stream",
     "text": [
      "Test accuracy: 36.2440%\n"
     ]
    }
   ],
   "source": [
    "# get index of predicted dog breed for each image in test set\n",
    "dog_breed_predictions = [np.argmax(model.predict(np.expand_dims(tensor, axis=0))) for tensor in test_tensors]\n",
    "\n",
    "# report test accuracy\n",
    "test_accuracy = 100*np.sum(np.array(dog_breed_predictions)==np.argmax(test_targets, axis=1))/len(dog_breed_predictions)\n",
    "print('Test accuracy: %.4f%%' % test_accuracy)"
   ]
  },
  {
   "cell_type": "markdown",
   "metadata": {},
   "source": [
    "---\n",
    "<a id='step4'></a>\n",
    "## Step 4: Use a CNN to Classify Dog Breeds\n",
    "\n",
    "To reduce training time without sacrificing accuracy, we show you how to train a CNN using transfer learning.  In the following step, you will get a chance to use transfer learning to train your own CNN.\n",
    "\n",
    "### Obtain Bottleneck Features"
   ]
  },
  {
   "cell_type": "code",
   "execution_count": null,
   "metadata": {
    "collapsed": true
   },
   "outputs": [],
   "source": [
    "bottleneck_features = np.load('bottleneck_features/DogVGG16Data.npz')\n",
    "train_VGG16 = bottleneck_features['train']\n",
    "valid_VGG16 = bottleneck_features['valid']\n",
    "test_VGG16 = bottleneck_features['test']"
   ]
  },
  {
   "cell_type": "markdown",
   "metadata": {},
   "source": [
    "### Model Architecture\n",
    "\n",
    "The model uses the the pre-trained VGG-16 model as a fixed feature extractor, where the last convolutional output of VGG-16 is fed as input to our model.  We only add a global average pooling layer and a fully connected layer, where the latter contains one node for each dog category and is equipped with a softmax."
   ]
  },
  {
   "cell_type": "code",
   "execution_count": null,
   "metadata": {
    "collapsed": true
   },
   "outputs": [],
   "source": [
    "VGG16_model = Sequential()\n",
    "VGG16_model.add(GlobalAveragePooling2D(input_shape=train_VGG16.shape[1:]))\n",
    "VGG16_model.add(Dense(133, activation='softmax'))\n",
    "\n",
    "VGG16_model.summary()"
   ]
  },
  {
   "cell_type": "markdown",
   "metadata": {},
   "source": [
    "### Compile the Model"
   ]
  },
  {
   "cell_type": "code",
   "execution_count": null,
   "metadata": {
    "collapsed": true
   },
   "outputs": [],
   "source": [
    "VGG16_model.compile(loss='categorical_crossentropy', optimizer='rmsprop', metrics=['accuracy'])"
   ]
  },
  {
   "cell_type": "markdown",
   "metadata": {},
   "source": [
    "### Train the Model"
   ]
  },
  {
   "cell_type": "code",
   "execution_count": null,
   "metadata": {
    "collapsed": true
   },
   "outputs": [],
   "source": [
    "checkpointer = ModelCheckpoint(filepath='saved_models/weights.best.VGG16.hdf5', \n",
    "                               verbose=1, save_best_only=True)\n",
    "\n",
    "VGG16_model.fit(train_VGG16, train_targets, \n",
    "          validation_data=(valid_VGG16, valid_targets),\n",
    "          epochs=20, batch_size=20, callbacks=[checkpointer], verbose=1)"
   ]
  },
  {
   "cell_type": "markdown",
   "metadata": {},
   "source": [
    "### Load the Model with the Best Validation Loss"
   ]
  },
  {
   "cell_type": "code",
   "execution_count": null,
   "metadata": {
    "collapsed": true
   },
   "outputs": [],
   "source": [
    "VGG16_model.load_weights('saved_models/weights.best.VGG16.hdf5')"
   ]
  },
  {
   "cell_type": "markdown",
   "metadata": {},
   "source": [
    "### Test the Model\n",
    "\n",
    "Now, we can use the CNN to test how well it identifies breed within our test dataset of dog images.  We print the test accuracy below."
   ]
  },
  {
   "cell_type": "code",
   "execution_count": null,
   "metadata": {
    "collapsed": true
   },
   "outputs": [],
   "source": [
    "# get index of predicted dog breed for each image in test set\n",
    "VGG16_predictions = [np.argmax(VGG16_model.predict(np.expand_dims(feature, axis=0))) for feature in test_VGG16]\n",
    "\n",
    "# report test accuracy\n",
    "test_accuracy = 100*np.sum(np.array(VGG16_predictions)==np.argmax(test_targets, axis=1))/len(VGG16_predictions)\n",
    "print('Test accuracy: %.4f%%' % test_accuracy)"
   ]
  },
  {
   "cell_type": "markdown",
   "metadata": {},
   "source": [
    "### Predict Dog Breed with the Model"
   ]
  },
  {
   "cell_type": "code",
   "execution_count": null,
   "metadata": {
    "collapsed": true
   },
   "outputs": [],
   "source": [
    "from extract_bottleneck_features import *\n",
    "\n",
    "def VGG16_predict_breed(img_path):\n",
    "    # extract bottleneck features\n",
    "    bottleneck_feature = extract_VGG16(path_to_tensor(img_path))\n",
    "    # obtain predicted vector\n",
    "    predicted_vector = VGG16_model.predict(bottleneck_feature)\n",
    "    # return dog breed that is predicted by the model\n",
    "    return dog_names[np.argmax(predicted_vector)]"
   ]
  },
  {
   "cell_type": "markdown",
   "metadata": {},
   "source": [
    "---\n",
    "<a id='step5'></a>\n",
    "## Step 5: Create a CNN to Classify Dog Breeds (using Transfer Learning)\n",
    "\n",
    "You will now use transfer learning to create a CNN that can identify dog breed from images.  Your CNN must attain at least 60% accuracy on the test set.\n",
    "\n",
    "In Step 4, we used transfer learning to create a CNN using VGG-16 bottleneck features.  In this section, you must use the bottleneck features from a different pre-trained model.  To make things easier for you, we have pre-computed the features for all of the networks that are currently available in Keras:\n",
    "- [VGG-19](https://s3-us-west-1.amazonaws.com/udacity-aind/dog-project/DogVGG19Data.npz) bottleneck features\n",
    "- [ResNet-50](https://s3-us-west-1.amazonaws.com/udacity-aind/dog-project/DogResnet50Data.npz) bottleneck features\n",
    "- [Inception](https://s3-us-west-1.amazonaws.com/udacity-aind/dog-project/DogInceptionV3Data.npz) bottleneck features\n",
    "- [Xception](https://s3-us-west-1.amazonaws.com/udacity-aind/dog-project/DogXceptionData.npz) bottleneck features\n",
    "\n",
    "The files are encoded as such:\n",
    "\n",
    "    Dog{network}Data.npz\n",
    "    \n",
    "where `{network}`, in the above filename, can be one of `VGG19`, `Resnet50`, `InceptionV3`, or `Xception`.  Pick one of the above architectures, download the corresponding bottleneck features, and store the downloaded file in the `bottleneck_features/` folder in the repository.\n",
    "\n",
    "### (IMPLEMENTATION) Obtain Bottleneck Features\n",
    "\n",
    "In the code block below, extract the bottleneck features corresponding to the train, test, and validation sets by running the following:\n",
    "\n",
    "    bottleneck_features = np.load('bottleneck_features/Dog{network}Data.npz')\n",
    "    train_{network} = bottleneck_features['train']\n",
    "    valid_{network} = bottleneck_features['valid']\n",
    "    test_{network} = bottleneck_features['test']"
   ]
  },
  {
   "cell_type": "code",
   "execution_count": null,
   "metadata": {
    "collapsed": true
   },
   "outputs": [],
   "source": [
    "### TODO: Obtain bottleneck features from another pre-trained CNN."
   ]
  },
  {
   "cell_type": "markdown",
   "metadata": {},
   "source": [
    "### (IMPLEMENTATION) Model Architecture\n",
    "\n",
    "Create a CNN to classify dog breed.  At the end of your code cell block, summarize the layers of your model by executing the line:\n",
    "    \n",
    "        <your model's name>.summary()\n",
    "   \n",
    "__Question 5:__ Outline the steps you took to get to your final CNN architecture and your reasoning at each step.  Describe why you think the architecture is suitable for the current problem.\n",
    "\n",
    "__Answer:__ \n",
    "\n"
   ]
  },
  {
   "cell_type": "code",
   "execution_count": null,
   "metadata": {
    "collapsed": true
   },
   "outputs": [],
   "source": [
    "### TODO: Define your architecture."
   ]
  },
  {
   "cell_type": "markdown",
   "metadata": {},
   "source": [
    "### (IMPLEMENTATION) Compile the Model"
   ]
  },
  {
   "cell_type": "code",
   "execution_count": null,
   "metadata": {
    "collapsed": true
   },
   "outputs": [],
   "source": [
    "### TODO: Compile the model."
   ]
  },
  {
   "cell_type": "markdown",
   "metadata": {},
   "source": [
    "### (IMPLEMENTATION) Train the Model\n",
    "\n",
    "Train your model in the code cell below.  Use model checkpointing to save the model that attains the best validation loss.  \n",
    "\n",
    "You are welcome to [augment the training data](https://blog.keras.io/building-powerful-image-classification-models-using-very-little-data.html), but this is not a requirement. "
   ]
  },
  {
   "cell_type": "code",
   "execution_count": null,
   "metadata": {
    "collapsed": true
   },
   "outputs": [],
   "source": [
    "### TODO: Train the model."
   ]
  },
  {
   "cell_type": "markdown",
   "metadata": {},
   "source": [
    "### (IMPLEMENTATION) Load the Model with the Best Validation Loss"
   ]
  },
  {
   "cell_type": "code",
   "execution_count": null,
   "metadata": {
    "collapsed": true
   },
   "outputs": [],
   "source": [
    "### TODO: Load the model weights with the best validation loss."
   ]
  },
  {
   "cell_type": "markdown",
   "metadata": {},
   "source": [
    "### (IMPLEMENTATION) Test the Model\n",
    "\n",
    "Try out your model on the test dataset of dog images. Ensure that your test accuracy is greater than 60%."
   ]
  },
  {
   "cell_type": "code",
   "execution_count": null,
   "metadata": {
    "collapsed": true
   },
   "outputs": [],
   "source": [
    "### TODO: Calculate classification accuracy on the test dataset."
   ]
  },
  {
   "cell_type": "markdown",
   "metadata": {},
   "source": [
    "### (IMPLEMENTATION) Predict Dog Breed with the Model\n",
    "\n",
    "Write a function that takes an image path as input and returns the dog breed (`Affenpinscher`, `Afghan_hound`, etc) that is predicted by your model.  \n",
    "\n",
    "Similar to the analogous function in Step 5, your function should have three steps:\n",
    "1. Extract the bottleneck features corresponding to the chosen CNN model.\n",
    "2. Supply the bottleneck features as input to the model to return the predicted vector.  Note that the argmax of this prediction vector gives the index of the predicted dog breed.\n",
    "3. Use the `dog_names` array defined in Step 0 of this notebook to return the corresponding breed.\n",
    "\n",
    "The functions to extract the bottleneck features can be found in `extract_bottleneck_features.py`, and they have been imported in an earlier code cell.  To obtain the bottleneck features corresponding to your chosen CNN architecture, you need to use the function\n",
    "\n",
    "    extract_{network}\n",
    "    \n",
    "where `{network}`, in the above filename, should be one of `VGG19`, `Resnet50`, `InceptionV3`, or `Xception`."
   ]
  },
  {
   "cell_type": "code",
   "execution_count": null,
   "metadata": {
    "collapsed": true
   },
   "outputs": [],
   "source": [
    "### TODO: Write a function that takes a path to an image as input\n",
    "### and returns the dog breed that is predicted by the model."
   ]
  },
  {
   "cell_type": "markdown",
   "metadata": {},
   "source": [
    "---\n",
    "<a id='step6'></a>\n",
    "## Step 6: Write your Algorithm\n",
    "\n",
    "Write an algorithm that accepts a file path to an image and first determines whether the image contains a human, dog, or neither.  Then,\n",
    "- if a __dog__ is detected in the image, return the predicted breed.\n",
    "- if a __human__ is detected in the image, return the resembling dog breed.\n",
    "- if __neither__ is detected in the image, provide output that indicates an error.\n",
    "\n",
    "You are welcome to write your own functions for detecting humans and dogs in images, but feel free to use the `face_detector` and `dog_detector` functions developed above.  You are __required__ to use your CNN from Step 5 to predict dog breed.  \n",
    "\n",
    "Some sample output for our algorithm is provided below, but feel free to design your own user experience!\n",
    "\n",
    "![Sample Human Output](images/sample_human_output.png)\n",
    "\n",
    "\n",
    "### (IMPLEMENTATION) Write your Algorithm"
   ]
  },
  {
   "cell_type": "code",
   "execution_count": null,
   "metadata": {
    "collapsed": true
   },
   "outputs": [],
   "source": [
    "### TODO: Write your algorithm.\n",
    "### Feel free to use as many code cells as needed."
   ]
  },
  {
   "cell_type": "markdown",
   "metadata": {},
   "source": [
    "---\n",
    "<a id='step7'></a>\n",
    "## Step 7: Test Your Algorithm\n",
    "\n",
    "In this section, you will take your new algorithm for a spin!  What kind of dog does the algorithm think that __you__ look like?  If you have a dog, does it predict your dog's breed accurately?  If you have a cat, does it mistakenly think that your cat is a dog?\n",
    "\n",
    "### (IMPLEMENTATION) Test Your Algorithm on Sample Images!\n",
    "\n",
    "Test your algorithm at least six images on your computer.  Feel free to use any images you like.  Use at least two human and two dog images.  \n",
    "\n",
    "__Question 6:__ Is the output better than you expected :) ?  Or worse :( ?  Provide at least three possible points of improvement for your algorithm.\n",
    "\n",
    "__Answer:__ "
   ]
  },
  {
   "cell_type": "code",
   "execution_count": null,
   "metadata": {
    "collapsed": true
   },
   "outputs": [],
   "source": [
    "## TODO: Execute your algorithm from Step 6 on\n",
    "## at least 6 images on your computer.\n",
    "## Feel free to use as many code cells as needed."
   ]
  }
 ],
 "metadata": {
  "anaconda-cloud": {},
  "kernelspec": {
   "display_name": "Python 3",
   "language": "python",
   "name": "python3"
  },
  "language_info": {
   "codemirror_mode": {
    "name": "ipython",
    "version": 3
   },
   "file_extension": ".py",
   "mimetype": "text/x-python",
   "name": "python",
   "nbconvert_exporter": "python",
   "pygments_lexer": "ipython3",
   "version": "3.5.3"
  }
 },
 "nbformat": 4,
 "nbformat_minor": 1
}
